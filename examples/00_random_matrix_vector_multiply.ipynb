{
 "cells": [
  {
   "cell_type": "markdown",
   "metadata": {
    "deletable": true,
    "editable": true
   },
   "source": [
    "# Using cloudknot to perform matrix-vector multiplication of random matrices"
   ]
  },
  {
   "cell_type": "markdown",
   "metadata": {
    "deletable": true,
    "editable": true
   },
   "source": [
    "This example uses cloudknot to perform matrix-vector multiplication of some random matrices with varying standard deviations."
   ]
  },
  {
   "cell_type": "code",
   "execution_count": 1,
   "metadata": {
    "collapsed": false,
    "deletable": true,
    "editable": true
   },
   "outputs": [],
   "source": [
    "import cloudknot as ck"
   ]
  },
  {
   "cell_type": "markdown",
   "metadata": {
    "deletable": true,
    "editable": true
   },
   "source": [
    "First, we write the python script that we want to run on AWS batch. Note that we import the necessary python packages within the function `random_mv_prod`."
   ]
  },
  {
   "cell_type": "code",
   "execution_count": 2,
   "metadata": {
    "collapsed": true,
    "deletable": true,
    "editable": true
   },
   "outputs": [],
   "source": [
    "def random_mv_prod(b):\n",
    "    import numpy as np\n",
    "    \n",
    "    x = np.random.normal(0, b, 1024)\n",
    "    A = np.random.normal(0, b, (1024, 1024))\n",
    "    \n",
    "    return np.dot(A, x)"
   ]
  },
  {
   "cell_type": "markdown",
   "metadata": {
    "deletable": true,
    "editable": true
   },
   "source": [
    "Create a knot using the `random_mv_prod` function and a job definition memory of 128 MiB."
   ]
  },
  {
   "cell_type": "code",
   "execution_count": 3,
   "metadata": {
    "collapsed": false,
    "deletable": true,
    "editable": true
   },
   "outputs": [],
   "source": [
    "try:\n",
    "    knot = ck.Knot(name='random_mv_prod', func=random_mv_prod, memory=128, retries=3)\n",
    "except ValueError:\n",
    "    # If you previously created this knot but didn't clobber it,\n",
    "    # then this except clause will try to retrieve it\n",
    "    knot = ck.Knot(name='random_mv_prod')"
   ]
  },
  {
   "cell_type": "markdown",
   "metadata": {
    "deletable": true,
    "editable": true
   },
   "source": [
    "Submit 20 batch jobs to the knot. The `map()` method returns a list of futures for the results of each batch job. You can optionally supply a list of environment variables to each job."
   ]
  },
  {
   "cell_type": "code",
   "execution_count": 5,
   "metadata": {
    "collapsed": true
   },
   "outputs": [],
   "source": [
    "# import numpy since it was only imported in the `random_mv_prod` function above\n",
    "import numpy as np"
   ]
  },
  {
   "cell_type": "code",
   "execution_count": 4,
   "metadata": {
    "collapsed": false,
    "deletable": true,
    "editable": true
   },
   "outputs": [],
   "source": [
    "# Submit the jobs\n",
    "result_futures = knot.map(np.linspace(0.1, 100, 20), env_vars=[{'name': 'MY_ENV_VAR', 'value': 'foo'}])"
   ]
  },
  {
   "cell_type": "markdown",
   "metadata": {
    "deletable": true,
    "editable": true
   },
   "source": [
    "We can query the jobs associated with this knot by calling `knot.view_jobs()`, prints a bunch of job info and provides a consice summary of job statuses."
   ]
  },
  {
   "cell_type": "code",
   "execution_count": 15,
   "metadata": {
    "collapsed": false,
    "deletable": true,
    "editable": true
   },
   "outputs": [
    {
     "name": "stdout",
     "output_type": "stream",
     "text": [
      "Job ID              Name                        Status   \n",
      "---------------------------------------------------------\n",
      "57e9d725-3aab-4e1c-859a-53b06ff18ec8        random_mv_prod-12           SUCCEEDED\n",
      "c9b01618-a20a-4794-96aa-7b6900d39a43        random_mv_prod-18           SUCCEEDED\n",
      "ae852c96-cc1b-48fe-911e-f1d7197ff341        random_mv_prod-0            SUCCEEDED\n",
      "ca0f4589-e5bc-42b6-af5a-119c46644c24        random_mv_prod-15           SUCCEEDED\n",
      "a8a941fe-12bf-4ac7-a4f7-70e84c577321        random_mv_prod-3            SUCCEEDED\n",
      "0e7af839-3a91-49c2-b8d4-3d990f697b36        random_mv_prod-6            SUCCEEDED\n",
      "acbdf052-dcc8-4df1-9095-2ed4f52e66dc        random_mv_prod-10           SUCCEEDED\n",
      "2c063597-36de-4273-b074-6e89d61e48e5        random_mv_prod-16           SUCCEEDED\n",
      "95857b21-ed97-4fcc-9fbc-66069906a9c3        random_mv_prod-2            SUCCEEDED\n",
      "cdd72224-6368-4a71-8bdd-d732212c67b7        random_mv_prod-7            SUCCEEDED\n",
      "d07f1371-53c7-47d1-a84e-2ad9caffcf10        random_mv_prod-17           SUCCEEDED\n",
      "aa82fe66-dabb-49ca-a758-f9de7657c287        random_mv_prod-8            SUCCEEDED\n",
      "700d9759-8515-4ca9-b059-7b92f44bade8        random_mv_prod-4            SUCCEEDED\n",
      "7b31aa16-8404-47e0-9e8f-62ebffe5b6f9        random_mv_prod-5            SUCCEEDED\n",
      "b873b0b5-4bdc-46b4-91f5-b6e6266f56b2        random_mv_prod-19           SUCCEEDED\n",
      "ff34fc24-c1b2-4b16-a2c4-802a97693129        random_mv_prod-13           SUCCEEDED\n",
      "50f7a005-d16f-4bdc-9ed4-468e3d67fccf        random_mv_prod-14           SUCCEEDED\n",
      "6f7f2747-06ba-435f-927d-7379a2de824c        random_mv_prod-1            SUCCEEDED\n",
      "8b415268-309b-4a41-a7b8-270c1ad70d03        random_mv_prod-9            SUCCEEDED\n",
      "710cddc4-894f-4b18-8f1f-59e1b1656f40        random_mv_prod-11           SUCCEEDED\n"
     ]
    }
   ],
   "source": [
    "# Rerun this cell as often as you like to update your job status info\n",
    "knot.view_jobs()"
   ]
  },
  {
   "cell_type": "markdown",
   "metadata": {
    "deletable": true,
    "editable": true
   },
   "source": [
    "We can also inspect each BatchJob instance by looking at `knot.jobs` which returns a list of BatchJob instances for each submitted job, e.g.:"
   ]
  },
  {
   "cell_type": "code",
   "execution_count": 16,
   "metadata": {
    "collapsed": false,
    "deletable": true,
    "editable": true
   },
   "outputs": [],
   "source": [
    "last_job = knot.jobs[-1]"
   ]
  },
  {
   "cell_type": "code",
   "execution_count": 8,
   "metadata": {
    "collapsed": false,
    "deletable": true,
    "editable": true
   },
   "outputs": [
    {
     "name": "stdout",
     "output_type": "stream",
     "text": [
      "False\n"
     ]
    },
    {
     "ename": "CKTimeoutError",
     "evalue": "The job with job-id b873b0b5-4bdc-46b4-91f5-b6e6266f56b2 did not finish within the requested timeout period",
     "output_type": "error",
     "traceback": [
      "\u001b[0;31m---------------------------------------------------------------------------\u001b[0m",
      "\u001b[0;31mCKTimeoutError\u001b[0m                            Traceback (most recent call last)",
      "\u001b[0;32m<ipython-input-8-eedc99836a06>\u001b[0m in \u001b[0;36m<module>\u001b[0;34m()\u001b[0m\n\u001b[1;32m      1\u001b[0m \u001b[0mprint\u001b[0m\u001b[0;34m(\u001b[0m\u001b[0mlast_job\u001b[0m\u001b[0;34m.\u001b[0m\u001b[0mdone\u001b[0m\u001b[0;34m)\u001b[0m\u001b[0;34m\u001b[0m\u001b[0m\n\u001b[0;32m----> 2\u001b[0;31m \u001b[0mprint\u001b[0m\u001b[0;34m(\u001b[0m\u001b[0mlast_job\u001b[0m\u001b[0;34m.\u001b[0m\u001b[0mresult\u001b[0m\u001b[0;34m(\u001b[0m\u001b[0mtimeout\u001b[0m\u001b[0;34m=\u001b[0m\u001b[0;36m5\u001b[0m\u001b[0;34m)\u001b[0m\u001b[0;34m)\u001b[0m\u001b[0;34m\u001b[0m\u001b[0m\n\u001b[0m",
      "\u001b[0;32m/Users/Adam/code/projects/cloudknot/cloudknot/aws/batch.py\u001b[0m in \u001b[0;36mresult\u001b[0;34m(self, timeout)\u001b[0m\n\u001b[1;32m   1811\u001b[0m \u001b[0;34m\u001b[0m\u001b[0m\n\u001b[1;32m   1812\u001b[0m         \u001b[0;32mif\u001b[0m \u001b[0;32mnot\u001b[0m \u001b[0mself\u001b[0m\u001b[0;34m.\u001b[0m\u001b[0mdone\u001b[0m\u001b[0;34m:\u001b[0m\u001b[0;34m\u001b[0m\u001b[0m\n\u001b[0;32m-> 1813\u001b[0;31m             \u001b[0;32mraise\u001b[0m \u001b[0mCKTimeoutError\u001b[0m\u001b[0;34m(\u001b[0m\u001b[0mself\u001b[0m\u001b[0;34m.\u001b[0m\u001b[0mjob_id\u001b[0m\u001b[0;34m)\u001b[0m\u001b[0;34m\u001b[0m\u001b[0m\n\u001b[0m\u001b[1;32m   1814\u001b[0m \u001b[0;34m\u001b[0m\u001b[0m\n\u001b[1;32m   1815\u001b[0m         \u001b[0mstatus\u001b[0m \u001b[0;34m=\u001b[0m \u001b[0mself\u001b[0m\u001b[0;34m.\u001b[0m\u001b[0mstatus\u001b[0m\u001b[0;34m\u001b[0m\u001b[0m\n",
      "\u001b[0;31mCKTimeoutError\u001b[0m: The job with job-id b873b0b5-4bdc-46b4-91f5-b6e6266f56b2 did not finish within the requested timeout period"
     ]
    }
   ],
   "source": [
    "print(last_job.done)\n",
    "print(last_job.result(timeout=5))"
   ]
  },
  {
   "cell_type": "markdown",
   "metadata": {
    "deletable": true,
    "editable": true
   },
   "source": [
    "`Knot.map()` returns a list of futures so you can use any of the futures methods to query the results, e.g. `done()` or `result()`."
   ]
  },
  {
   "cell_type": "code",
   "execution_count": 17,
   "metadata": {
    "collapsed": false
   },
   "outputs": [
    {
     "name": "stdout",
     "output_type": "stream",
     "text": [
      "True\n",
      "[ 0.1824538   0.13255699 -0.32016405 ..., -0.48144142  0.18720769\n",
      "  0.09038733]\n"
     ]
    }
   ],
   "source": [
    "print(result_futures[0].done())\n",
    "print(result_futures[0].result())"
   ]
  },
  {
   "cell_type": "markdown",
   "metadata": {
    "deletable": true,
    "editable": true
   },
   "source": [
    "Once you're all done, clobber the knot, including the underlying PARS and the remote repo."
   ]
  },
  {
   "cell_type": "code",
   "execution_count": 19,
   "metadata": {
    "collapsed": false,
    "deletable": true,
    "editable": true
   },
   "outputs": [
    {
     "name": "stderr",
     "output_type": "stream",
     "text": [
      "WARNING:cloudknot.aws.ec2:Deleted dependent EC2 instances: ['i-0bdc8d35ac1cbbd43']\n"
     ]
    }
   ],
   "source": [
    "knot.clobber(clobber_pars=True, clobber_repo=True, clobber_image=True)"
   ]
  },
  {
   "cell_type": "code",
   "execution_count": null,
   "metadata": {
    "collapsed": true,
    "deletable": true,
    "editable": true
   },
   "outputs": [],
   "source": []
  }
 ],
 "metadata": {
  "kernelspec": {
   "display_name": "Python 3",
   "language": "python",
   "name": "python3"
  },
  "language_info": {
   "codemirror_mode": {
    "name": "ipython",
    "version": 3
   },
   "file_extension": ".py",
   "mimetype": "text/x-python",
   "name": "python",
   "nbconvert_exporter": "python",
   "pygments_lexer": "ipython3",
   "version": "3.5.3"
  }
 },
 "nbformat": 4,
 "nbformat_minor": 0
}
