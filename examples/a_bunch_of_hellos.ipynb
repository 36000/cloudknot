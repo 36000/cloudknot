{
 "cells": [
  {
   "cell_type": "markdown",
   "metadata": {
    "deletable": true,
    "editable": true
   },
   "source": [
    "# Using cloudknot to batch write files to an S3 bucket"
   ]
  },
  {
   "cell_type": "markdown",
   "metadata": {
    "deletable": true,
    "editable": true
   },
   "source": [
    "This example uses cloudknot to return an array of varying length whose elements are all 'hello' strings"
   ]
  },
  {
   "cell_type": "code",
   "execution_count": 1,
   "metadata": {
    "collapsed": false,
    "deletable": true,
    "editable": true
   },
   "outputs": [],
   "source": [
    "import cloudknot as ck"
   ]
  },
  {
   "cell_type": "markdown",
   "metadata": {
    "deletable": true,
    "editable": true
   },
   "source": [
    "First, we write the python script that we want to run on AWS batch. Note that we import the necessary python packages within the function `hello_array`. Also note that we convert the input into an `int`. By default, all the arguments are treated as strings because they come from command line arguments via the `docker run` command in the AWS ECS task. You can change this behavior by [converting arguments](https://clize.readthedocs.io/en/stable/basics.html#converting-arguments) (links to the `clize` docs)."
   ]
  },
  {
   "cell_type": "code",
   "execution_count": 2,
   "metadata": {
    "collapsed": true,
    "deletable": true,
    "editable": true
   },
   "outputs": [],
   "source": [
    "def hello_array(length):\n",
    "    import platform\n",
    "\n",
    "    host = platform.node()\n",
    "    result = {\n",
    "        'host': host,\n",
    "        'array': ['hello'] * int(length)\n",
    "    }\n",
    "\n",
    "    return result"
   ]
  },
  {
   "cell_type": "markdown",
   "metadata": {
    "deletable": true,
    "editable": true
   },
   "source": [
    "Create a knot using the `hello_array` function and a job definition memory of 1000 MiB."
   ]
  },
  {
   "cell_type": "code",
   "execution_count": 3,
   "metadata": {
    "collapsed": false,
    "deletable": true,
    "editable": true
   },
   "outputs": [],
   "source": [
    "knot = ck.Knot(name='hello_array', func=hello_array, memory=1000)\n",
    "\n",
    "# If you previously created this knot but didn't clobber it, then just supply\n",
    "# the name in order to retrieve the knot info from the cloudknot config file\n",
    "# knot = ck.Knot(name='hello_array')"
   ]
  },
  {
   "cell_type": "markdown",
   "metadata": {
    "deletable": true,
    "editable": true
   },
   "source": [
    "Submit 10 batch jobs to the knot. `commands` must be a sequence of commands and each command must be a sequence of strings. Therefore, `commands` must be a sequence of sequences of strings. For example, if you wanted to pass three commands `echo 1`, `echo 2`, `echo 3`, then then you would use `submit(commands=[[\"echo\", \"1\"], [\"echo\", \"2\"], [\"echo\", \"3\"]])`. The commands must be strings because they will eventually be passed to our command line interface via the `docker run` command."
   ]
  },
  {
   "cell_type": "code",
   "execution_count": 4,
   "metadata": {
    "collapsed": false,
    "deletable": true,
    "editable": true
   },
   "outputs": [
    {
     "name": "stdout",
     "output_type": "stream",
     "text": [
      "[['0'], ['1'], ['2'], ['3'], ['4'], ['5'], ['6'], ['7'], ['8'], ['9']]\n"
     ]
    }
   ],
   "source": [
    "n_commands = 10\n",
    "commands = [[str(i)] for i in range(n_commands)]\n",
    "print(commands)"
   ]
  },
  {
   "cell_type": "code",
   "execution_count": 5,
   "metadata": {
    "collapsed": false,
    "deletable": true,
    "editable": true
   },
   "outputs": [],
   "source": [
    "result_futures = knot.map(commands=commands)"
   ]
  },
  {
   "cell_type": "markdown",
   "metadata": {
    "deletable": true,
    "editable": true
   },
   "source": [
    "We can query the jobs associated with this knot by calling `knot.get_jobs()` and `knot.view_jobs()`."
   ]
  },
  {
   "cell_type": "markdown",
   "metadata": {
    "deletable": true,
    "editable": true
   },
   "source": [
    "`view_jobs()` prints a bunch of job info and provides a more consice summary of job statuses."
   ]
  },
  {
   "cell_type": "code",
   "execution_count": 6,
   "metadata": {
    "collapsed": false,
    "deletable": true,
    "editable": true
   },
   "outputs": [
    {
     "name": "stdout",
     "output_type": "stream",
     "text": [
      "Job ID              Name                        Status   \n",
      "---------------------------------------------------------\n",
      "12f3e2f4-eec7-4b94-ae04-ce5c59429031        hello_array-0               SUCCEEDED\n",
      "dc752333-adb7-41f0-a327-4bc2897a51b4        hello_array-1               SUCCEEDED\n",
      "5c517986-f7b4-4fc0-ac80-6a91a77fd7a8        hello_array-2               SUCCEEDED\n",
      "9a6f1a8c-b9e1-46eb-a9b5-5ee01cbbc345        hello_array-3               SUCCEEDED\n",
      "a4c14239-a9a4-48d9-8fda-4d6d9a3556da        hello_array-4               SUCCEEDED\n",
      "be9e1bbd-c233-4dd2-83bd-fe6c6bf7f429        hello_array-5               SUCCEEDED\n",
      "80add267-5774-4cdf-8f99-dd7e431fe4ea        hello_array-6               SUCCEEDED\n",
      "069121fd-03df-4540-92be-1e115bdbf2ad        hello_array-7               SUCCEEDED\n",
      "b1519e12-73f5-48f9-974b-927a302081aa        hello_array-8               SUCCEEDED\n",
      "11385165-e746-4ca5-8d36-f29536a27926        hello_array-9               SUCCEEDED\n"
     ]
    }
   ],
   "source": [
    "# Rerun this cell as often as you like to update your job status info\n",
    "knot.view_jobs()"
   ]
  },
  {
   "cell_type": "markdown",
   "metadata": {
    "deletable": true,
    "editable": true
   },
   "source": [
    " `get_jobs()` returns a dictionary of jobs info with `BatchJob` instances that you can interact with programatically."
   ]
  },
  {
   "cell_type": "code",
   "execution_count": 7,
   "metadata": {
    "collapsed": false,
    "deletable": true,
    "editable": true
   },
   "outputs": [
    {
     "data": {
      "text/plain": [
       "[{'attempts': [{'container': {'containerInstanceArn': 'arn:aws:ecs:us-east-1:455598791984:container-instance/ad1a7d9c-9286-442f-87be-9bb602a30de1',\n",
       "     'exitCode': 0,\n",
       "     'logStreamName': 'hello_array-cloudknot-job-definition/default/ee801bf5-d8a3-47c3-ad7f-752ee16882b2',\n",
       "     'taskArn': 'arn:aws:ecs:us-east-1:455598791984:task/ee801bf5-d8a3-47c3-ad7f-752ee16882b2'},\n",
       "    'startedAt': 1510016241929,\n",
       "    'statusReason': 'Essential container in task exited',\n",
       "    'stoppedAt': 1510016243401}],\n",
       "  'id': '12f3e2f4-eec7-4b94-ae04-ce5c59429031',\n",
       "  'job': <cloudknot.aws.batch.BatchJob at 0x10679cac8>,\n",
       "  'name': 'hello_array-0',\n",
       "  'status': 'SUCCEEDED',\n",
       "  'status-reason': 'Essential container in task exited'},\n",
       " {'attempts': [{'container': {'containerInstanceArn': 'arn:aws:ecs:us-east-1:455598791984:container-instance/ad1a7d9c-9286-442f-87be-9bb602a30de1',\n",
       "     'exitCode': 0,\n",
       "     'logStreamName': 'hello_array-cloudknot-job-definition/default/19e01977-810a-48db-beff-991aa0df1c03',\n",
       "     'taskArn': 'arn:aws:ecs:us-east-1:455598791984:task/19e01977-810a-48db-beff-991aa0df1c03'},\n",
       "    'startedAt': 1510016240506,\n",
       "    'statusReason': 'Essential container in task exited',\n",
       "    'stoppedAt': 1510016241949}],\n",
       "  'id': 'dc752333-adb7-41f0-a327-4bc2897a51b4',\n",
       "  'job': <cloudknot.aws.batch.BatchJob at 0x106804c50>,\n",
       "  'name': 'hello_array-1',\n",
       "  'status': 'SUCCEEDED',\n",
       "  'status-reason': 'Essential container in task exited'},\n",
       " {'attempts': [{'container': {'containerInstanceArn': 'arn:aws:ecs:us-east-1:455598791984:container-instance/ad1a7d9c-9286-442f-87be-9bb602a30de1',\n",
       "     'exitCode': 0,\n",
       "     'logStreamName': 'hello_array-cloudknot-job-definition/default/53b91485-6ec5-4403-9f7c-32f813d9e093',\n",
       "     'taskArn': 'arn:aws:ecs:us-east-1:455598791984:task/53b91485-6ec5-4403-9f7c-32f813d9e093'},\n",
       "    'startedAt': 1510016283976,\n",
       "    'statusReason': 'Essential container in task exited',\n",
       "    'stoppedAt': 1510016284930}],\n",
       "  'id': '5c517986-f7b4-4fc0-ac80-6a91a77fd7a8',\n",
       "  'job': <cloudknot.aws.batch.BatchJob at 0x105e6da90>,\n",
       "  'name': 'hello_array-2',\n",
       "  'status': 'SUCCEEDED',\n",
       "  'status-reason': 'Essential container in task exited'},\n",
       " {'attempts': [{'container': {'containerInstanceArn': 'arn:aws:ecs:us-east-1:455598791984:container-instance/ad1a7d9c-9286-442f-87be-9bb602a30de1',\n",
       "     'exitCode': 0,\n",
       "     'logStreamName': 'hello_array-cloudknot-job-definition/default/6fb5246c-94a5-42a6-9206-068fa86ddd2d',\n",
       "     'taskArn': 'arn:aws:ecs:us-east-1:455598791984:task/6fb5246c-94a5-42a6-9206-068fa86ddd2d'},\n",
       "    'startedAt': 1510016238903,\n",
       "    'statusReason': 'Essential container in task exited',\n",
       "    'stoppedAt': 1510016239967}],\n",
       "  'id': '9a6f1a8c-b9e1-46eb-a9b5-5ee01cbbc345',\n",
       "  'job': <cloudknot.aws.batch.BatchJob at 0x106836dd8>,\n",
       "  'name': 'hello_array-3',\n",
       "  'status': 'SUCCEEDED',\n",
       "  'status-reason': 'Essential container in task exited'},\n",
       " {'attempts': [{'container': {'containerInstanceArn': 'arn:aws:ecs:us-east-1:455598791984:container-instance/ad1a7d9c-9286-442f-87be-9bb602a30de1',\n",
       "     'exitCode': 0,\n",
       "     'logStreamName': 'hello_array-cloudknot-job-definition/default/06bbb99f-9c52-4f6e-acd6-f8607935886b',\n",
       "     'taskArn': 'arn:aws:ecs:us-east-1:455598791984:task/06bbb99f-9c52-4f6e-acd6-f8607935886b'},\n",
       "    'startedAt': 1510016239902,\n",
       "    'statusReason': 'Essential container in task exited',\n",
       "    'stoppedAt': 1510016241668}],\n",
       "  'id': 'a4c14239-a9a4-48d9-8fda-4d6d9a3556da',\n",
       "  'job': <cloudknot.aws.batch.BatchJob at 0x106818898>,\n",
       "  'name': 'hello_array-4',\n",
       "  'status': 'SUCCEEDED',\n",
       "  'status-reason': 'Essential container in task exited'},\n",
       " {'attempts': [{'container': {'containerInstanceArn': 'arn:aws:ecs:us-east-1:455598791984:container-instance/ad1a7d9c-9286-442f-87be-9bb602a30de1',\n",
       "     'exitCode': 0,\n",
       "     'logStreamName': 'hello_array-cloudknot-job-definition/default/be4edb34-a737-4415-ab30-347081c3a09a',\n",
       "     'taskArn': 'arn:aws:ecs:us-east-1:455598791984:task/be4edb34-a737-4415-ab30-347081c3a09a'},\n",
       "    'startedAt': 1510016283760,\n",
       "    'statusReason': 'Essential container in task exited',\n",
       "    'stoppedAt': 1510016284690}],\n",
       "  'id': 'be9e1bbd-c233-4dd2-83bd-fe6c6bf7f429',\n",
       "  'job': <cloudknot.aws.batch.BatchJob at 0x106841668>,\n",
       "  'name': 'hello_array-5',\n",
       "  'status': 'SUCCEEDED',\n",
       "  'status-reason': 'Essential container in task exited'},\n",
       " {'attempts': [{'container': {'containerInstanceArn': 'arn:aws:ecs:us-east-1:455598791984:container-instance/ad1a7d9c-9286-442f-87be-9bb602a30de1',\n",
       "     'exitCode': 0,\n",
       "     'logStreamName': 'hello_array-cloudknot-job-definition/default/16b55f72-b2a6-4dda-8a24-9b01c16b135a',\n",
       "     'taskArn': 'arn:aws:ecs:us-east-1:455598791984:task/16b55f72-b2a6-4dda-8a24-9b01c16b135a'},\n",
       "    'startedAt': 1510016242229,\n",
       "    'statusReason': 'Essential container in task exited',\n",
       "    'stoppedAt': 1510016243540}],\n",
       "  'id': '80add267-5774-4cdf-8f99-dd7e431fe4ea',\n",
       "  'job': <cloudknot.aws.batch.BatchJob at 0x10683d9b0>,\n",
       "  'name': 'hello_array-6',\n",
       "  'status': 'SUCCEEDED',\n",
       "  'status-reason': 'Essential container in task exited'},\n",
       " {'attempts': [{'container': {'containerInstanceArn': 'arn:aws:ecs:us-east-1:455598791984:container-instance/ad1a7d9c-9286-442f-87be-9bb602a30de1',\n",
       "     'exitCode': 0,\n",
       "     'logStreamName': 'hello_array-cloudknot-job-definition/default/08265453-ec6f-4223-90cc-f9e9b2fa804a',\n",
       "     'taskArn': 'arn:aws:ecs:us-east-1:455598791984:task/08265453-ec6f-4223-90cc-f9e9b2fa804a'},\n",
       "    'startedAt': 1510016241504,\n",
       "    'statusReason': 'Essential container in task exited',\n",
       "    'stoppedAt': 1510016243540}],\n",
       "  'id': '069121fd-03df-4540-92be-1e115bdbf2ad',\n",
       "  'job': <cloudknot.aws.batch.BatchJob at 0x1067fb668>,\n",
       "  'name': 'hello_array-7',\n",
       "  'status': 'SUCCEEDED',\n",
       "  'status-reason': 'Essential container in task exited'},\n",
       " {'attempts': [{'container': {'containerInstanceArn': 'arn:aws:ecs:us-east-1:455598791984:container-instance/ad1a7d9c-9286-442f-87be-9bb602a30de1',\n",
       "     'exitCode': 0,\n",
       "     'logStreamName': 'hello_array-cloudknot-job-definition/default/bc7bf9e4-5da3-4764-a83d-097e0f95b3c3',\n",
       "     'taskArn': 'arn:aws:ecs:us-east-1:455598791984:task/bc7bf9e4-5da3-4764-a83d-097e0f95b3c3'},\n",
       "    'startedAt': 1510016239289,\n",
       "    'statusReason': 'Essential container in task exited',\n",
       "    'stoppedAt': 1510016240934}],\n",
       "  'id': 'b1519e12-73f5-48f9-974b-927a302081aa',\n",
       "  'job': <cloudknot.aws.batch.BatchJob at 0x10684e470>,\n",
       "  'name': 'hello_array-8',\n",
       "  'status': 'SUCCEEDED',\n",
       "  'status-reason': 'Essential container in task exited'},\n",
       " {'attempts': [{'container': {'containerInstanceArn': 'arn:aws:ecs:us-east-1:455598791984:container-instance/ad1a7d9c-9286-442f-87be-9bb602a30de1',\n",
       "     'exitCode': 0,\n",
       "     'logStreamName': 'hello_array-cloudknot-job-definition/default/f1f4bdc3-8a33-448f-b4b4-979ca31279a5',\n",
       "     'taskArn': 'arn:aws:ecs:us-east-1:455598791984:task/f1f4bdc3-8a33-448f-b4b4-979ca31279a5'},\n",
       "    'startedAt': 1510016240731,\n",
       "    'statusReason': 'Essential container in task exited',\n",
       "    'stoppedAt': 1510016242232}],\n",
       "  'id': '11385165-e746-4ca5-8d36-f29536a27926',\n",
       "  'job': <cloudknot.aws.batch.BatchJob at 0x10679cc50>,\n",
       "  'name': 'hello_array-9',\n",
       "  'status': 'SUCCEEDED',\n",
       "  'status-reason': 'Essential container in task exited'}]"
      ]
     },
     "execution_count": 7,
     "metadata": {},
     "output_type": "execute_result"
    }
   ],
   "source": [
    "knot.get_jobs()"
   ]
  },
  {
   "cell_type": "markdown",
   "metadata": {
    "deletable": true,
    "editable": true
   },
   "source": [
    "We can also inspect each BatchJob instance by looking at `knot.jobs` which returns a list of BatchJob instances for each submitted job, e.g.:"
   ]
  },
  {
   "cell_type": "code",
   "execution_count": 8,
   "metadata": {
    "collapsed": false,
    "deletable": true,
    "editable": true
   },
   "outputs": [],
   "source": [
    "last_job = knot.jobs[-1]"
   ]
  },
  {
   "cell_type": "code",
   "execution_count": 9,
   "metadata": {
    "collapsed": false,
    "deletable": true,
    "editable": true
   },
   "outputs": [
    {
     "name": "stdout",
     "output_type": "stream",
     "text": [
      "True\n",
      "{'array': ['hello', 'hello', 'hello', 'hello', 'hello', 'hello', 'hello', 'hello', 'hello'], 'host': 'ip-172-31-32-84'}\n"
     ]
    }
   ],
   "source": [
    "print(last_job.done)\n",
    "print(last_job.result(timeout=5))"
   ]
  },
  {
   "cell_type": "code",
   "execution_count": 10,
   "metadata": {
    "collapsed": false
   },
   "outputs": [
    {
     "name": "stdout",
     "output_type": "stream",
     "text": [
      "['https://console.aws.amazon.com/cloudwatch/home?region=us-east-1#logEventViewer:group=/aws/batch/job;stream=hello_array-cloudknot-job-definition/default/f1f4bdc3-8a33-448f-b4b4-979ca31279a5']\n"
     ]
    }
   ],
   "source": [
    "print(last_job.log_urls)"
   ]
  },
  {
   "cell_type": "code",
   "execution_count": 11,
   "metadata": {
    "collapsed": false,
    "deletable": true,
    "editable": true
   },
   "outputs": [
    {
     "name": "stdout",
     "output_type": "stream",
     "text": [
      "True\n",
      "{'array': [], 'host': 'ip-172-31-32-84'}\n"
     ]
    }
   ],
   "source": [
    "print(result_futures[0].done())\n",
    "print(result_futures[0].result())"
   ]
  },
  {
   "cell_type": "markdown",
   "metadata": {
    "deletable": true,
    "editable": true
   },
   "source": [
    "Once you're all done, clobber the knot, including the underlying PARS and the remote repo."
   ]
  },
  {
   "cell_type": "code",
   "execution_count": 12,
   "metadata": {
    "collapsed": false,
    "deletable": true,
    "editable": true
   },
   "outputs": [],
   "source": [
    "knot.clobber(clobber_pars=True, clobber_repo=True, clobber_image=True)"
   ]
  },
  {
   "cell_type": "code",
   "execution_count": null,
   "metadata": {
    "collapsed": true,
    "deletable": true,
    "editable": true
   },
   "outputs": [],
   "source": []
  }
 ],
 "metadata": {
  "kernelspec": {
   "display_name": "Python 3",
   "language": "python",
   "name": "python3"
  },
  "language_info": {
   "codemirror_mode": {
    "name": "ipython",
    "version": 3
   },
   "file_extension": ".py",
   "mimetype": "text/x-python",
   "name": "python",
   "nbconvert_exporter": "python",
   "pygments_lexer": "ipython3",
   "version": "3.5.3"
  }
 },
 "nbformat": 4,
 "nbformat_minor": 0
}
