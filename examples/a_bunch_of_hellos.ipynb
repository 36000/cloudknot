{
 "cells": [
  {
   "cell_type": "markdown",
   "metadata": {
    "deletable": true,
    "editable": true
   },
   "source": [
    "# Using cloudknot to batch write files to an S3 bucket"
   ]
  },
  {
   "cell_type": "markdown",
   "metadata": {
    "deletable": true,
    "editable": true
   },
   "source": [
    "This example uses cloudknot to return an array of varying length whose elements are all 'hello' strings"
   ]
  },
  {
   "cell_type": "code",
   "execution_count": 1,
   "metadata": {
    "collapsed": false,
    "deletable": true,
    "editable": true
   },
   "outputs": [],
   "source": [
    "import cloudknot as ck"
   ]
  },
  {
   "cell_type": "markdown",
   "metadata": {
    "deletable": true,
    "editable": true
   },
   "source": [
    "First, we write the python script that we want to run on AWS batch. Note that we import the necessary python packages within the function `hello_array`. Also note that we convert the input into an `int`. By default, all the arguments are treated as strings because they come from command line arguments via the `docker run` command in the AWS ECS task. You can change this behavior by [converting arguments](https://clize.readthedocs.io/en/stable/basics.html#converting-arguments) (links to the `clize` docs)."
   ]
  },
  {
   "cell_type": "code",
   "execution_count": 2,
   "metadata": {
    "collapsed": true,
    "deletable": true,
    "editable": true
   },
   "outputs": [],
   "source": [
    "def hello_array(length):\n",
    "    import platform\n",
    "\n",
    "    host = platform.node()\n",
    "    result = {\n",
    "        'host': host,\n",
    "        'array': ['hello'] * int(length)\n",
    "    }\n",
    "\n",
    "    return result"
   ]
  },
  {
   "cell_type": "markdown",
   "metadata": {
    "deletable": true,
    "editable": true
   },
   "source": [
    "Create a knot using the `hello_array` function and a job definition memory of 1000 MiB."
   ]
  },
  {
   "cell_type": "code",
   "execution_count": 3,
   "metadata": {
    "collapsed": false,
    "deletable": true,
    "editable": true
   },
   "outputs": [],
   "source": [
    "#knot = ck.Knot(name='hello_array', func=hello_array, memory=1000)\n",
    "\n",
    "# If you previously created this knot but didn't clobber it, then just supply\n",
    "# the name in order to retrieve the knot info from the cloudknot config file\n",
    "knot = ck.Knot(name='hello_array')"
   ]
  },
  {
   "cell_type": "markdown",
   "metadata": {
    "deletable": true,
    "editable": true
   },
   "source": [
    "Submit 10 batch jobs to the knot. `commands` must be a sequence of commands and each command must be a sequence of strings. Therefore, `commands` must be a sequence of sequences of strings. For example, if you wanted to pass three commands `echo 1`, `echo 2`, `echo 3`, then then you would use `submit(commands=[[\"echo\", \"1\"], [\"echo\", \"2\"], [\"echo\", \"3\"]])`. The commands must be strings because they will eventually be passed to our command line interface via the `docker run` command."
   ]
  },
  {
   "cell_type": "code",
   "execution_count": 4,
   "metadata": {
    "collapsed": false,
    "deletable": true,
    "editable": true
   },
   "outputs": [
    {
     "name": "stdout",
     "output_type": "stream",
     "text": [
      "[['0'], ['1'], ['2'], ['3'], ['4'], ['5'], ['6'], ['7'], ['8'], ['9']]\n"
     ]
    }
   ],
   "source": [
    "n_commands = 10\n",
    "commands = [[str(i)] for i in range(n_commands)]\n",
    "print(commands)"
   ]
  },
  {
   "cell_type": "code",
   "execution_count": 5,
   "metadata": {
    "collapsed": false,
    "deletable": true,
    "editable": true
   },
   "outputs": [],
   "source": [
    "result_futures = knot.map(commands=commands)"
   ]
  },
  {
   "cell_type": "markdown",
   "metadata": {
    "deletable": true,
    "editable": true
   },
   "source": [
    "We can query the jobs associated with this knot by calling `knot.get_jobs()` and `knot.view_jobs()`."
   ]
  },
  {
   "cell_type": "markdown",
   "metadata": {
    "deletable": true,
    "editable": true
   },
   "source": [
    "`view_jobs()` prints a bunch of job info and provides a more consice summary of job statuses."
   ]
  },
  {
   "cell_type": "code",
   "execution_count": 6,
   "metadata": {
    "collapsed": false,
    "deletable": true,
    "editable": true
   },
   "outputs": [
    {
     "name": "stdout",
     "output_type": "stream",
     "text": [
      "Job ID              Name                        Status   \n",
      "---------------------------------------------------------\n",
      "23984207-6a30-458c-ba00-06bcb0b952bd        hello_array-0               SUCCEEDED\n",
      "4ca741b3-9adb-4802-9d9e-233ff86eb264        hello_array-1               SUCCEEDED\n",
      "976c1fa1-921e-4db0-aeb8-63a8a38467a6        hello_array-2               SUCCEEDED\n",
      "0abb88df-74d2-40bb-a000-aac3fe385b33        hello_array-3               SUCCEEDED\n",
      "0174b52a-c04e-457c-ae37-7a19db5da831        hello_array-4               SUCCEEDED\n",
      "3f8c2483-954a-45fa-b0ae-fc04084c7d33        hello_array-5               SUCCEEDED\n",
      "025fd87f-73d2-4b2a-8acd-09f063e06daf        hello_array-6               SUCCEEDED\n",
      "56d5fdb2-27f4-473f-bff6-d661a7ffd692        hello_array-7               SUCCEEDED\n",
      "9c04c7da-0927-469e-979c-eb371a319799        hello_array-8               SUCCEEDED\n",
      "31f0b02f-11ad-4870-a4ab-5c7a17945f6d        hello_array-9               SUCCEEDED\n"
     ]
    }
   ],
   "source": [
    "# Rerun this cell as often as you like to update your job status info\n",
    "knot.view_jobs()"
   ]
  },
  {
   "cell_type": "markdown",
   "metadata": {},
   "source": [
    " `get_jobs()` returns a dictionary of jobs info with `BatchJob` instances that you can interact with programatically."
   ]
  },
  {
   "cell_type": "code",
   "execution_count": 7,
   "metadata": {
    "collapsed": false,
    "deletable": true,
    "editable": true
   },
   "outputs": [
    {
     "data": {
      "text/plain": [
       "[{'attempts': [{'container': {'containerInstanceArn': 'arn:aws:ecs:us-east-1:455598791984:container-instance/70e858fb-ef54-4118-b230-7a004ecd16c0',\n",
       "     'exitCode': 0,\n",
       "     'logStreamName': 'hello_array-cloudknot-job-definition/default/1bd6b10d-9625-49a9-8c31-1b83855964a4',\n",
       "     'taskArn': 'arn:aws:ecs:us-east-1:455598791984:task/1bd6b10d-9625-49a9-8c31-1b83855964a4'},\n",
       "    'startedAt': 1510005348501,\n",
       "    'statusReason': 'Essential container in task exited',\n",
       "    'stoppedAt': 1510005349768}],\n",
       "  'id': '23984207-6a30-458c-ba00-06bcb0b952bd',\n",
       "  'job': <cloudknot.aws.batch.BatchJob at 0x10a6b19e8>,\n",
       "  'name': 'hello_array-0',\n",
       "  'status': 'SUCCEEDED',\n",
       "  'status-reason': 'Essential container in task exited'},\n",
       " {'attempts': [{'container': {'containerInstanceArn': 'arn:aws:ecs:us-east-1:455598791984:container-instance/ed916765-2d0e-4c5a-ad17-6bb6b469561e',\n",
       "     'exitCode': 0,\n",
       "     'logStreamName': 'hello_array-cloudknot-job-definition/default/9ce2db7d-5ccf-454e-9b57-f30366086053',\n",
       "     'taskArn': 'arn:aws:ecs:us-east-1:455598791984:task/9ce2db7d-5ccf-454e-9b57-f30366086053'},\n",
       "    'startedAt': 1510005348625,\n",
       "    'statusReason': 'Essential container in task exited',\n",
       "    'stoppedAt': 1510005349927}],\n",
       "  'id': '4ca741b3-9adb-4802-9d9e-233ff86eb264',\n",
       "  'job': <cloudknot.aws.batch.BatchJob at 0x10a736940>,\n",
       "  'name': 'hello_array-1',\n",
       "  'status': 'SUCCEEDED',\n",
       "  'status-reason': 'Essential container in task exited'},\n",
       " {'attempts': [{'container': {'containerInstanceArn': 'arn:aws:ecs:us-east-1:455598791984:container-instance/70e858fb-ef54-4118-b230-7a004ecd16c0',\n",
       "     'exitCode': 0,\n",
       "     'logStreamName': 'hello_array-cloudknot-job-definition/default/c8470413-0f83-49c1-8ba1-2fe52878c97f',\n",
       "     'taskArn': 'arn:aws:ecs:us-east-1:455598791984:task/c8470413-0f83-49c1-8ba1-2fe52878c97f'},\n",
       "    'startedAt': 1510005347593,\n",
       "    'statusReason': 'Essential container in task exited',\n",
       "    'stoppedAt': 1510005349337}],\n",
       "  'id': '976c1fa1-921e-4db0-aeb8-63a8a38467a6',\n",
       "  'job': <cloudknot.aws.batch.BatchJob at 0x10a760dd8>,\n",
       "  'name': 'hello_array-2',\n",
       "  'status': 'SUCCEEDED',\n",
       "  'status-reason': 'Essential container in task exited'},\n",
       " {'attempts': [{'container': {'containerInstanceArn': 'arn:aws:ecs:us-east-1:455598791984:container-instance/70e858fb-ef54-4118-b230-7a004ecd16c0',\n",
       "     'exitCode': 0,\n",
       "     'logStreamName': 'hello_array-cloudknot-job-definition/default/31c9ca60-f945-4ca8-a181-4607fe659c2a',\n",
       "     'taskArn': 'arn:aws:ecs:us-east-1:455598791984:task/31c9ca60-f945-4ca8-a181-4607fe659c2a'},\n",
       "    'startedAt': 1510005348323,\n",
       "    'statusReason': 'Essential container in task exited',\n",
       "    'stoppedAt': 1510005349594}],\n",
       "  'id': '0abb88df-74d2-40bb-a000-aac3fe385b33',\n",
       "  'job': <cloudknot.aws.batch.BatchJob at 0x10a765668>,\n",
       "  'name': 'hello_array-3',\n",
       "  'status': 'SUCCEEDED',\n",
       "  'status-reason': 'Essential container in task exited'},\n",
       " {'attempts': [{'container': {'containerInstanceArn': 'arn:aws:ecs:us-east-1:455598791984:container-instance/ed916765-2d0e-4c5a-ad17-6bb6b469561e',\n",
       "     'exitCode': 0,\n",
       "     'logStreamName': 'hello_array-cloudknot-job-definition/default/644b9551-4938-4d18-9697-3bedf03fa3bc',\n",
       "     'taskArn': 'arn:aws:ecs:us-east-1:455598791984:task/644b9551-4938-4d18-9697-3bedf03fa3bc'},\n",
       "    'startedAt': 1510005348137,\n",
       "    'statusReason': 'Essential container in task exited',\n",
       "    'stoppedAt': 1510005349341}],\n",
       "  'id': '0174b52a-c04e-457c-ae37-7a19db5da831',\n",
       "  'job': <cloudknot.aws.batch.BatchJob at 0x10a6f6f28>,\n",
       "  'name': 'hello_array-4',\n",
       "  'status': 'SUCCEEDED',\n",
       "  'status-reason': 'Essential container in task exited'},\n",
       " {'attempts': [{'container': {'containerInstanceArn': 'arn:aws:ecs:us-east-1:455598791984:container-instance/70e858fb-ef54-4118-b230-7a004ecd16c0',\n",
       "     'exitCode': 0,\n",
       "     'logStreamName': 'hello_array-cloudknot-job-definition/default/3c453adf-105e-4a07-a488-6d00a9bd6747',\n",
       "     'taskArn': 'arn:aws:ecs:us-east-1:455598791984:task/3c453adf-105e-4a07-a488-6d00a9bd6747'},\n",
       "    'startedAt': 1510005348082,\n",
       "    'statusReason': 'Essential container in task exited',\n",
       "    'stoppedAt': 1510005349315}],\n",
       "  'id': '3f8c2483-954a-45fa-b0ae-fc04084c7d33',\n",
       "  'job': <cloudknot.aws.batch.BatchJob at 0x10a760860>,\n",
       "  'name': 'hello_array-5',\n",
       "  'status': 'SUCCEEDED',\n",
       "  'status-reason': 'Essential container in task exited'},\n",
       " {'attempts': [{'container': {'containerInstanceArn': 'arn:aws:ecs:us-east-1:455598791984:container-instance/ed916765-2d0e-4c5a-ad17-6bb6b469561e',\n",
       "     'exitCode': 0,\n",
       "     'logStreamName': 'hello_array-cloudknot-job-definition/default/96a84140-5039-4247-8468-2a2aa6ca544c',\n",
       "     'taskArn': 'arn:aws:ecs:us-east-1:455598791984:task/96a84140-5039-4247-8468-2a2aa6ca544c'},\n",
       "    'startedAt': 1510005348484,\n",
       "    'statusReason': 'Essential container in task exited',\n",
       "    'stoppedAt': 1510005349794}],\n",
       "  'id': '025fd87f-73d2-4b2a-8acd-09f063e06daf',\n",
       "  'job': <cloudknot.aws.batch.BatchJob at 0x10a760fd0>,\n",
       "  'name': 'hello_array-6',\n",
       "  'status': 'SUCCEEDED',\n",
       "  'status-reason': 'Essential container in task exited'},\n",
       " {'attempts': [{'container': {'containerInstanceArn': 'arn:aws:ecs:us-east-1:455598791984:container-instance/ed916765-2d0e-4c5a-ad17-6bb6b469561e',\n",
       "     'exitCode': 0,\n",
       "     'logStreamName': 'hello_array-cloudknot-job-definition/default/3c3b8095-7de4-4a81-848c-c2fa28eeb5b5',\n",
       "     'taskArn': 'arn:aws:ecs:us-east-1:455598791984:task/3c3b8095-7de4-4a81-848c-c2fa28eeb5b5'},\n",
       "    'startedAt': 1510005413086,\n",
       "    'statusReason': 'Essential container in task exited',\n",
       "    'stoppedAt': 1510005414073}],\n",
       "  'id': '56d5fdb2-27f4-473f-bff6-d661a7ffd692',\n",
       "  'job': <cloudknot.aws.batch.BatchJob at 0x10a6b1ef0>,\n",
       "  'name': 'hello_array-7',\n",
       "  'status': 'SUCCEEDED',\n",
       "  'status-reason': 'Essential container in task exited'},\n",
       " {'attempts': [{'container': {'containerInstanceArn': 'arn:aws:ecs:us-east-1:455598791984:container-instance/ed916765-2d0e-4c5a-ad17-6bb6b469561e',\n",
       "     'exitCode': 0,\n",
       "     'logStreamName': 'hello_array-cloudknot-job-definition/default/1c3dcb10-4f86-482c-b3dd-d4f3fe2a2fdf',\n",
       "     'taskArn': 'arn:aws:ecs:us-east-1:455598791984:task/1c3dcb10-4f86-482c-b3dd-d4f3fe2a2fdf'},\n",
       "    'startedAt': 1510005348786,\n",
       "    'statusReason': 'Essential container in task exited',\n",
       "    'stoppedAt': 1510005349945}],\n",
       "  'id': '9c04c7da-0927-469e-979c-eb371a319799',\n",
       "  'job': <cloudknot.aws.batch.BatchJob at 0x10a786e80>,\n",
       "  'name': 'hello_array-8',\n",
       "  'status': 'SUCCEEDED',\n",
       "  'status-reason': 'Essential container in task exited'},\n",
       " {'attempts': [{'container': {'containerInstanceArn': 'arn:aws:ecs:us-east-1:455598791984:container-instance/ed916765-2d0e-4c5a-ad17-6bb6b469561e',\n",
       "     'exitCode': 0,\n",
       "     'logStreamName': 'hello_array-cloudknot-job-definition/default/38c2f459-ea0c-4ac8-be24-f18ef544ab65',\n",
       "     'taskArn': 'arn:aws:ecs:us-east-1:455598791984:task/38c2f459-ea0c-4ac8-be24-f18ef544ab65'},\n",
       "    'startedAt': 1510005412914,\n",
       "    'statusReason': 'Essential container in task exited',\n",
       "    'stoppedAt': 1510005413880}],\n",
       "  'id': '31f0b02f-11ad-4870-a4ab-5c7a17945f6d',\n",
       "  'job': <cloudknot.aws.batch.BatchJob at 0x10a786fd0>,\n",
       "  'name': 'hello_array-9',\n",
       "  'status': 'SUCCEEDED',\n",
       "  'status-reason': 'Essential container in task exited'}]"
      ]
     },
     "execution_count": 7,
     "metadata": {},
     "output_type": "execute_result"
    }
   ],
   "source": [
    "knot.get_jobs()"
   ]
  },
  {
   "cell_type": "markdown",
   "metadata": {},
   "source": [
    "We can also inspect each BatchJob instance by looking at `knot.jobs` which returns a list of BatchJob instances for each submitted job, e.g.:"
   ]
  },
  {
   "cell_type": "code",
   "execution_count": 8,
   "metadata": {
    "collapsed": false
   },
   "outputs": [],
   "source": [
    "last_job = knot.jobs[-1]"
   ]
  },
  {
   "cell_type": "code",
   "execution_count": 9,
   "metadata": {
    "collapsed": false
   },
   "outputs": [
    {
     "name": "stdout",
     "output_type": "stream",
     "text": [
      "True\n",
      "{'array': ['hello', 'hello', 'hello', 'hello', 'hello', 'hello', 'hello', 'hello', 'hello'], 'host': 'ip-172-31-63-96'}\n"
     ]
    }
   ],
   "source": [
    "print(last_job.done)\n",
    "print(last_job.result(timeout=5))"
   ]
  },
  {
   "cell_type": "code",
   "execution_count": 11,
   "metadata": {
    "collapsed": false
   },
   "outputs": [
    {
     "name": "stdout",
     "output_type": "stream",
     "text": [
      "True\n",
      "{'array': [], 'host': 'ip-172-31-2-170'}\n"
     ]
    }
   ],
   "source": [
    "print(result_futures[0].done())\n",
    "print(result_futures[0].result())"
   ]
  },
  {
   "cell_type": "markdown",
   "metadata": {
    "deletable": true,
    "editable": true
   },
   "source": [
    "Once you're all done, clobber the knot, including the underlying PARS and the remote repo."
   ]
  },
  {
   "cell_type": "code",
   "execution_count": null,
   "metadata": {
    "collapsed": false,
    "deletable": true,
    "editable": true
   },
   "outputs": [],
   "source": [
    "knot.clobber(clobber_pars=True, clobber_repo=True, clobber_image=True)"
   ]
  },
  {
   "cell_type": "code",
   "execution_count": null,
   "metadata": {
    "collapsed": true,
    "deletable": true,
    "editable": true
   },
   "outputs": [],
   "source": []
  }
 ],
 "metadata": {
  "kernelspec": {
   "display_name": "Python 3",
   "language": "python",
   "name": "python3"
  },
  "language_info": {
   "codemirror_mode": {
    "name": "ipython",
    "version": 3
   },
   "file_extension": ".py",
   "mimetype": "text/x-python",
   "name": "python",
   "nbconvert_exporter": "python",
   "pygments_lexer": "ipython3",
   "version": "3.5.3"
  }
 },
 "nbformat": 4,
 "nbformat_minor": 0
}
