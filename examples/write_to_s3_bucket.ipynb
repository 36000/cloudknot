{
 "cells": [
  {
   "cell_type": "markdown",
   "metadata": {
    "deletable": true,
    "editable": true
   },
   "source": [
    "# Using cloudknot to batch write files to an S3 bucket"
   ]
  },
  {
   "cell_type": "markdown",
   "metadata": {
    "deletable": true,
    "editable": true
   },
   "source": [
    "This example uses cloudknot to write files to an Amazon S3 bucket."
   ]
  },
  {
   "cell_type": "code",
   "execution_count": 1,
   "metadata": {
    "collapsed": false,
    "deletable": true,
    "editable": true
   },
   "outputs": [],
   "source": [
    "import cloudknot as ck"
   ]
  },
  {
   "cell_type": "markdown",
   "metadata": {
    "deletable": true,
    "editable": true
   },
   "source": [
    "First, we write the python script that we want to run on AWS batch. Note that we import the necessary python packages within the function `write_to_bucket`. You should change the `bucket_name` to the S3 bucket that you would like to write to."
   ]
  },
  {
   "cell_type": "code",
   "execution_count": 2,
   "metadata": {
    "collapsed": true,
    "deletable": true,
    "editable": true
   },
   "outputs": [],
   "source": [
    "def write_to_bucket(index):\n",
    "    import boto3\n",
    "    import platform\n",
    "    \n",
    "    client = boto3.resource('s3')\n",
    "    \n",
    "    host = platform.node()\n",
    "    \n",
    "    fn = 'temp_{i:03d}.txt'.format(i=int(index))\n",
    "    with open(fn, 'w') as f:\n",
    "        f.write(\"Hello World from index {i:s} on host {host:s}!\".format(\n",
    "            i=str(index), host=host))\n",
    "\n",
    "    bucket_name = 'escience.washington.edu.public'\n",
    "    b = client.Bucket(bucket_name)\n",
    "    b.upload_file(fn, fn)"
   ]
  },
  {
   "cell_type": "markdown",
   "metadata": {
    "deletable": true,
    "editable": true
   },
   "source": [
    "By default, cloudknot does not attach any additional policies to its IAM roles. But since we are writing to an S3 bucket, we want our IAM roles to have S3 access. So we add that to the roles in the PARS that our knot is based on. First we try to create or retrieve the default VPC for this PARS. As a fallback option, create a non-default VPC."
   ]
  },
  {
   "cell_type": "code",
   "execution_count": 3,
   "metadata": {
    "collapsed": false,
    "deletable": true,
    "editable": true
   },
   "outputs": [],
   "source": [
    "s3_access_pars = ck.Pars(name='s3_access', policies=('AmazonS3FullAccess',))"
   ]
  },
  {
   "cell_type": "markdown",
   "metadata": {
    "deletable": true,
    "editable": true
   },
   "source": [
    "Create a knot using the `write_to_bucket` function and the PARS that we just created."
   ]
  },
  {
   "cell_type": "code",
   "execution_count": 4,
   "metadata": {
    "collapsed": false,
    "deletable": true,
    "editable": true
   },
   "outputs": [],
   "source": [
    "knot = ck.Knot(name='test_s3_knot', func=write_to_bucket, pars=s3_access_pars)\n",
    "\n",
    "# If you previously created this knot but didn't clobber it, then just supply\n",
    "# the name in order to retrieve the knot info from the cloudknot config file\n",
    "# knot = ck.Knot(name='test_s3_knot')"
   ]
  },
  {
   "cell_type": "markdown",
   "metadata": {
    "deletable": true,
    "editable": true
   },
   "source": [
    "Submit 10 batch jobs to the knot. `commands` must be a sequence of commands and each command must be a sequence of strings. Therefore, `commands` must be a sequence of sequences of strings. For example, if you wanted to pass three commands `echo 1`, `echo 2`, `echo 3`, then then you would use `submit(commands=[[\"echo\", \"1\"], [\"echo\", \"2\"], [\"echo\", \"3\"]])`. The commands must be strings because they will eventually be passed to our command line interface via the `docker run` command."
   ]
  },
  {
   "cell_type": "code",
   "execution_count": 5,
   "metadata": {
    "collapsed": false,
    "deletable": true,
    "editable": true
   },
   "outputs": [
    {
     "name": "stdout",
     "output_type": "stream",
     "text": [
      "[['0'], ['1'], ['2'], ['3'], ['4'], ['5'], ['6'], ['7'], ['8'], ['9']]\n"
     ]
    }
   ],
   "source": [
    "n_commands = 10\n",
    "commands = [[str(i)] for i in range(n_commands)]\n",
    "print(commands)"
   ]
  },
  {
   "cell_type": "code",
   "execution_count": null,
   "metadata": {
    "collapsed": false,
    "deletable": true,
    "editable": true
   },
   "outputs": [],
   "source": [
    "knot.submit(commands=commands)"
   ]
  },
  {
   "cell_type": "markdown",
   "metadata": {
    "deletable": true,
    "editable": true
   },
   "source": [
    "We can query the jobs associated with this knot by calling `knot.get_jobs()` and `knot.view_jobs()`. `get_jobs()` returns a dictionary of jobs info with `BatchJob` instances that you can interact with programatically."
   ]
  },
  {
   "cell_type": "code",
   "execution_count": null,
   "metadata": {
    "collapsed": false,
    "deletable": true,
    "editable": true
   },
   "outputs": [],
   "source": [
    "knot.get_jobs()"
   ]
  },
  {
   "cell_type": "markdown",
   "metadata": {
    "deletable": true,
    "editable": true
   },
   "source": [
    "`view_jobs()` prints a bunch of job info and provides a more consice summary of job statuses."
   ]
  },
  {
   "cell_type": "code",
   "execution_count": null,
   "metadata": {
    "collapsed": false,
    "deletable": true,
    "editable": true
   },
   "outputs": [],
   "source": [
    "# Rerun this cell as often as you like to update your job status info\n",
    "knot.view_jobs()"
   ]
  },
  {
   "cell_type": "markdown",
   "metadata": {
    "deletable": true,
    "editable": true
   },
   "source": [
    "To check the results, you can login to the S3 console page at https://s3.console.aws.amazon.com/s3/home. Verify that cloudknot created a bunch of text files in your S3 bucket."
   ]
  },
  {
   "cell_type": "markdown",
   "metadata": {
    "deletable": true,
    "editable": true
   },
   "source": [
    "Once you're all done, clobber the knot, including the underlying PARS and the remote repo."
   ]
  },
  {
   "cell_type": "code",
   "execution_count": 6,
   "metadata": {
    "collapsed": false,
    "deletable": true,
    "editable": true
   },
   "outputs": [
    {
     "name": "stderr",
     "output_type": "stream",
     "text": [
      "WARNING:cloudknot.aws.ec2:Deleted dependent EC2 instances: ['i-0ba70c4ad71899448']\n"
     ]
    }
   ],
   "source": [
    "knot.clobber(clobber_pars=True, clobber_repo=True)"
   ]
  },
  {
   "cell_type": "code",
   "execution_count": null,
   "metadata": {
    "collapsed": true,
    "deletable": true,
    "editable": true
   },
   "outputs": [],
   "source": []
  }
 ],
 "metadata": {
  "kernelspec": {
   "display_name": "Python 3",
   "language": "python",
   "name": "python3"
  },
  "language_info": {
   "codemirror_mode": {
    "name": "ipython",
    "version": 3
   },
   "file_extension": ".py",
   "mimetype": "text/x-python",
   "name": "python",
   "nbconvert_exporter": "python",
   "pygments_lexer": "ipython3",
   "version": "3.5.3"
  }
 },
 "nbformat": 4,
 "nbformat_minor": 0
}
