{
 "cells": [
  {
   "cell_type": "markdown",
   "metadata": {
    "deletable": true,
    "editable": true
   },
   "source": [
    "# Use the `Knot` class to dockerize a python function and create a set of AWS resources"
   ]
  },
  {
   "cell_type": "code",
   "execution_count": 1,
   "metadata": {
    "collapsed": true
   },
   "outputs": [],
   "source": [
    "import logging\n",
    "# Set the logging level to print logging statements in the notebook\n",
    "logger = logging.getLogger()\n",
    "logger.setLevel(logging.INFO)  # Change this to logging.DEBUG if you want more verbose output"
   ]
  },
  {
   "cell_type": "code",
   "execution_count": 2,
   "metadata": {
    "collapsed": false,
    "deletable": true,
    "editable": true
   },
   "outputs": [],
   "source": [
    "# This example is housed in cloudknot/examples\n",
    "# With cloudknot installed, you may simply import with\n",
    "# `import cloudknot as ck`\n",
    "# However, if you havent installed cloudknot yet\n",
    "# (e.g. you're running this example from a fresh clone of the cloudknot github repo),\n",
    "# you should temporarily add cloudknot to your sys.path using the commands below\n",
    "import os\n",
    "import sys\n",
    "module_path = os.path.abspath(os.path.join('..'))\n",
    "if module_path not in sys.path:\n",
    "    sys.path.append(module_path)\n",
    "import cloudknot as ck"
   ]
  },
  {
   "cell_type": "markdown",
   "metadata": {
    "deletable": true,
    "editable": true
   },
   "source": [
    "## Initialization"
   ]
  },
  {
   "cell_type": "markdown",
   "metadata": {
    "deletable": true,
    "editable": true
   },
   "source": [
    "Create a test function, `test_func`, that `Knot` will dockerize. `Knot` uses `DockerImage` to Dockerize the input function. Refer to the `using_dockerimage` jupyter notebook example for more details on this."
   ]
  },
  {
   "cell_type": "code",
   "execution_count": 3,
   "metadata": {
    "collapsed": true,
    "deletable": true,
    "editable": true
   },
   "outputs": [],
   "source": [
    "def test_func(name=None, *, no_capitalize=False):\n",
    "    \"\"\"Test function for unit testing of cloudknot.DockerReqs\n",
    "\n",
    "    Import statements of various formats are deliberately scattered\n",
    "    throughout the function to test the pipreqs components of\n",
    "    clouknot.DockerReqs\n",
    "    \"\"\"\n",
    "    import AFQ\n",
    "    import sys\n",
    "    import boto3.ec2\n",
    "    if name:\n",
    "        from docker import api\n",
    "        from os.path import join\n",
    "\n",
    "        if not no_capitalize:\n",
    "            import pytest as pt\n",
    "            import h5py.utils as h5utils\n",
    "\n",
    "            name = name.title()\n",
    "\n",
    "        return 'Hello {0}!'.format(name)\n",
    "\n",
    "    from six import binary_type as bt\n",
    "    from dask.base import curry as dbc\n",
    "\n",
    "    return 'Hello world!'"
   ]
  },
  {
   "cell_type": "markdown",
   "metadata": {
    "deletable": true,
    "editable": true
   },
   "source": [
    "Create a `Knot` instance from the test function."
   ]
  },
  {
   "cell_type": "code",
   "execution_count": 4,
   "metadata": {
    "collapsed": false,
    "deletable": true,
    "editable": true
   },
   "outputs": [
    {
     "name": "stderr",
     "output_type": "stream",
     "text": [
      "WARNING:cloudknot.dockerimage:Warning, some imports not found by pipreqs. You will need to edit the Dockerfile by hand, e.g by installing from github. You need to install the following packages ['AFQ']\n",
      "INFO:cloudknot.dockerimage:Wrote Dockerfile /Users/Adam/code/projects/cloudknot/examples/cloudknot_docker_test_func_cpl6bv0w/Dockerfile\n",
      "INFO:cloudknot.dockerimage:Building image cloudknot/test_func with tag cloudknot\n",
      "INFO:cloudknot.cloudknot:knot example built docker image [{'tag': 'cloudknot', 'name': 'cloudknot/test_func'}]\n",
      "INFO:botocore.vendored.requests.packages.urllib3.connectionpool:Starting new HTTPS connection (1): ecr.us-east-1.amazonaws.com\n",
      "INFO:cloudknot.aws.ecr:Created repository cloudknot/test_func at 455598791984.dkr.ecr.us-east-1.amazonaws.com/cloudknot/test_func\n",
      "INFO:cloudknot.cloudknot:knot example created/adopted docker repo cloudknot/test_func\n",
      "INFO:cloudknot.dockerimage:Tagging image cloudknot/test_func with tag cloudknot\n",
      "INFO:cloudknot.dockerimage:Pushing image cloudknot/test_func with tag cloudknot\n",
      "INFO:cloudknot.cloudknot:knot example pushed it's docker image to the repo cloudknot/test_func\n",
      "INFO:botocore.vendored.requests.packages.urllib3.connectionpool:Starting new HTTPS connection (1): batch.us-east-1.amazonaws.com\n",
      "INFO:cloudknot.aws.batch:Job definition example-cloudknot-job-definition already exists.\n",
      "INFO:cloudknot.aws.batch:Created AWS batch job definition example-cloudknot-job-definition\n",
      "INFO:cloudknot.cloudknot:knot example created job definition example-cloudknot-job-definition\n",
      "INFO:botocore.vendored.requests.packages.urllib3.connectionpool:Resetting dropped connection: iam.amazonaws.com\n",
      "INFO:cloudknot.aws.batch:Created compute environment example-cloudknot-compute-environment\n",
      "INFO:cloudknot.cloudknot:knot example created compute environment example-cloudknot-compute-environment\n",
      "INFO:cloudknot.aws.base_classes:Waiting for AWS to finish modifying job queue example-cloudknot-job-queue.\n",
      "INFO:cloudknot.aws.base_classes:Waiting for AWS to finish modifying job queue example-cloudknot-job-queue.\n",
      "INFO:cloudknot.aws.base_classes:Waiting for AWS to finish modifying job queue example-cloudknot-job-queue.\n",
      "INFO:cloudknot.aws.batch:Created job queue example-cloudknot-job-queue\n",
      "INFO:cloudknot.cloudknot:knot example created job queue example-cloudknot-job-queue\n"
     ]
    }
   ],
   "source": [
    "knot = ck.Knot(name='example', func=test_func)"
   ]
  },
  {
   "cell_type": "markdown",
   "metadata": {
    "deletable": true,
    "editable": true
   },
   "source": [
    "And print the Amazon Resource Names of the created resources."
   ]
  },
  {
   "cell_type": "code",
   "execution_count": 5,
   "metadata": {
    "collapsed": false,
    "deletable": true,
    "editable": true
   },
   "outputs": [
    {
     "name": "stdout",
     "output_type": "stream",
     "text": [
      "arn:aws:iam::455598791984:role/default-cloudknot-batch-service-role\n",
      "arn:aws:iam::455598791984:role/default-cloudknot-ecs-instance-role\n",
      "arn:aws:iam::455598791984:role/default-cloudknot-spot-fleet-role\n",
      "vpc-6c0bf014\n",
      "sg-7236d600\n",
      "arn:aws:batch:us-east-1:455598791984:job-definition/example-cloudknot-job-definition:6\n",
      "arn:aws:batch:us-east-1:455598791984:compute-environment/example-cloudknot-compute-environment\n",
      "arn:aws:batch:us-east-1:455598791984:job-queue/example-cloudknot-job-queue\n",
      "455598791984.dkr.ecr.us-east-1.amazonaws.com/cloudknot/test_func\n"
     ]
    }
   ],
   "source": [
    "print(knot.pars.batch_service_role.arn)\n",
    "print(knot.pars.ecs_instance_role.arn)\n",
    "print(knot.pars.spot_fleet_role.arn)\n",
    "print(knot.pars.vpc.vpc_id)\n",
    "print(knot.pars.security_group.security_group_id)\n",
    "print(knot.job_definition.arn)\n",
    "print(knot.compute_environment.arn)\n",
    "print(knot.job_queue.arn)\n",
    "print(knot.docker_repo.repo_uri)"
   ]
  },
  {
   "cell_type": "code",
   "execution_count": 6,
   "metadata": {
    "collapsed": false
   },
   "outputs": [
    {
     "name": "stderr",
     "output_type": "stream",
     "text": [
      "INFO:cloudknot.cloudknot:Found knot example in config\n",
      "INFO:cloudknot.cloudknot:Found PARS default in config\n",
      "INFO:cloudknot.aws.iam:IAM role default-cloudknot-batch-service-role already exists: arn:aws:iam::455598791984:role/default-cloudknot-batch-service-role\n",
      "INFO:cloudknot.cloudknot:PARS default adopted role default-cloudknot-batch-service-role\n",
      "INFO:cloudknot.aws.iam:IAM role default-cloudknot-ecs-instance-role already exists: arn:aws:iam::455598791984:role/default-cloudknot-ecs-instance-role\n",
      "INFO:cloudknot.cloudknot:PARS default adopted role default-cloudknot-ecs-instance-role\n",
      "INFO:cloudknot.aws.iam:IAM role default-cloudknot-spot-fleet-role already exists: arn:aws:iam::455598791984:role/default-cloudknot-spot-fleet-role\n",
      "INFO:cloudknot.cloudknot:PARS default adopted role default-cloudknot-spot-fleet-role\n",
      "INFO:botocore.vendored.requests.packages.urllib3.connectionpool:Resetting dropped connection: ec2.us-east-1.amazonaws.com\n",
      "INFO:cloudknot.aws.ec2:VPC vpc-6c0bf014 already exists.\n",
      "INFO:cloudknot.aws.ec2:Retrieved pre-existing VPC vpc-6c0bf014\n",
      "INFO:cloudknot.cloudknot:PARS default adopted VPC vpc-6c0bf014\n",
      "INFO:cloudknot.aws.ec2:Retrieved pre-existing security group sg-7236d600\n",
      "INFO:cloudknot.cloudknot:PARS default adopted security group sg-7236d600\n",
      "INFO:cloudknot.cloudknot:Knot example adopted PARS default\n",
      "WARNING:cloudknot.dockerimage:Warning, some imports not found by pipreqs. You will need to edit the Dockerfile by hand, e.g by installing from github. You need to install the following packages ['AFQ']\n",
      "INFO:cloudknot.cloudknot:Knot example adopted docker image test_func\n",
      "INFO:botocore.vendored.requests.packages.urllib3.connectionpool:Resetting dropped connection: ecr.us-east-1.amazonaws.com\n",
      "INFO:cloudknot.aws.ecr:Repository cloudknot/test_func already exists at 455598791984.dkr.ecr.us-east-1.amazonaws.com/cloudknot/test_func\n",
      "INFO:cloudknot.cloudknot:Knot example adopted docker repository cloudknot/test_func\n",
      "INFO:cloudknot.aws.batch:Job definition example-cloudknot-job-definition already exists.\n",
      "INFO:cloudknot.aws.batch:Retrieved pre-existing job definition example-cloudknot-job-definition\n",
      "INFO:cloudknot.cloudknot:Knot example adopted job definition example-cloudknot-job-definition\n",
      "INFO:cloudknot.aws.batch:Compute environment example-cloudknot-compute-environment already exists.\n",
      "INFO:cloudknot.aws.batch:Retrieved pre-existing compute environment example-cloudknot-compute-environment\n",
      "INFO:cloudknot.cloudknot:Knot example adopted compute environment example-cloudknot-compute-environment\n",
      "INFO:cloudknot.aws.batch:Job Queue example-cloudknot-job-queue already exists.\n",
      "INFO:cloudknot.aws.batch:Retrieved pre-existing job queue example-cloudknot-job-queue\n",
      "INFO:cloudknot.cloudknot:Knot example adopted job queue example-cloudknot-job-queue\n"
     ]
    }
   ],
   "source": [
    "retrieved_knot = ck.Knot(name='example')"
   ]
  },
  {
   "cell_type": "code",
   "execution_count": 7,
   "metadata": {
    "collapsed": false,
    "deletable": true,
    "editable": true
   },
   "outputs": [
    {
     "name": "stderr",
     "output_type": "stream",
     "text": [
      "INFO:botocore.vendored.requests.packages.urllib3.connectionpool:Resetting dropped connection: batch.us-east-1.amazonaws.com\n",
      "INFO:cloudknot.aws.batch:Clobbered job queue example-cloudknot-job-queue\n",
      "INFO:cloudknot.aws.batch:Clobbered compute environment example-cloudknot-compute-environment\n",
      "INFO:cloudknot.aws.batch:Deregistered job definition example-cloudknot-job-definition\n",
      "INFO:botocore.vendored.requests.packages.urllib3.connectionpool:Resetting dropped connection: ecr.us-east-1.amazonaws.com\n",
      "INFO:cloudknot.aws.ecr:Clobbered docker image cloudknot/test_func\n",
      "INFO:cloudknot.dockerimage:Removed /Users/Adam/code/projects/cloudknot/examples/cloudknot_docker_test_func_cpl6bv0w/test_func.py\n",
      "INFO:cloudknot.dockerimage:Removed /Users/Adam/code/projects/cloudknot/examples/cloudknot_docker_test_func_cpl6bv0w/Dockerfile\n",
      "INFO:cloudknot.dockerimage:Removed /Users/Adam/code/projects/cloudknot/examples/cloudknot_docker_test_func_cpl6bv0w/requirements.txt\n",
      "INFO:cloudknot.dockerimage:Removed /Users/Adam/code/projects/cloudknot/examples/cloudknot_docker_test_func_cpl6bv0w\n",
      "INFO:botocore.vendored.requests.packages.urllib3.connectionpool:Resetting dropped connection: ec2.us-east-1.amazonaws.com\n",
      "WARNING:cloudknot.aws.ec2:Deleted dependent EC2 instances: ['i-077fd05b4957729c1']\n",
      "INFO:botocore.vendored.requests.packages.urllib3.connectionpool:Resetting dropped connection: ec2.us-east-1.amazonaws.com\n",
      "INFO:botocore.vendored.requests.packages.urllib3.connectionpool:Resetting dropped connection: ec2.us-east-1.amazonaws.com\n",
      "INFO:botocore.vendored.requests.packages.urllib3.connectionpool:Resetting dropped connection: ec2.us-east-1.amazonaws.com\n",
      "INFO:botocore.vendored.requests.packages.urllib3.connectionpool:Resetting dropped connection: ec2.us-east-1.amazonaws.com\n",
      "INFO:cloudknot.aws.ec2:Clobbered security group sg-7236d600\n",
      "INFO:cloudknot.aws.ec2:Deleted subnet subnet-34163938\n",
      "INFO:cloudknot.aws.ec2:Deleted subnet subnet-6e61d30a\n",
      "INFO:cloudknot.aws.ec2:Deleted subnet subnet-9bcd1ad0\n",
      "INFO:cloudknot.aws.ec2:Deleted subnet subnet-c3ccc599\n",
      "INFO:cloudknot.aws.ec2:Deleted subnet subnet-62f0e44e\n",
      "INFO:cloudknot.aws.ec2:Deleted subnet subnet-3e01d001\n",
      "INFO:cloudknot.aws.ec2:Deleted VPC default-cloudknot-vpc\n",
      "INFO:botocore.vendored.requests.packages.urllib3.connectionpool:Resetting dropped connection: iam.amazonaws.com\n",
      "INFO:cloudknot.aws.iam:Deleted role default-cloudknot-spot-fleet-role\n",
      "INFO:cloudknot.aws.iam:Deleted role default-cloudknot-ecs-instance-role\n",
      "INFO:cloudknot.aws.iam:Deleted role default-cloudknot-batch-service-role\n",
      "INFO:cloudknot.cloudknot:Clobbered PARS default\n",
      "INFO:cloudknot.cloudknot:Knot example clobbered PARS default\n",
      "INFO:cloudknot.cloudknot:Clobbered Knot example\n"
     ]
    }
   ],
   "source": [
    "knot.clobber(clobber_pars=True)"
   ]
  },
  {
   "cell_type": "code",
   "execution_count": null,
   "metadata": {
    "collapsed": true
   },
   "outputs": [],
   "source": []
  }
 ],
 "metadata": {
  "kernelspec": {
   "display_name": "Python 3",
   "language": "python",
   "name": "python3"
  },
  "language_info": {
   "codemirror_mode": {
    "name": "ipython",
    "version": 3
   },
   "file_extension": ".py",
   "mimetype": "text/x-python",
   "name": "python",
   "nbconvert_exporter": "python",
   "pygments_lexer": "ipython3",
   "version": "3.5.3"
  }
 },
 "nbformat": 4,
 "nbformat_minor": 2
}
